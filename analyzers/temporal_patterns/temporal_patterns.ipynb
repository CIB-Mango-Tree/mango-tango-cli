{
 "cells": [
  {
   "cell_type": "code",
   "execution_count": 2,
   "metadata": {},
   "outputs": [],
   "source": [
    "import polars as pl\n",
    "import numpy as np\n",
    "import pandas as pd\n",
    "import plotly.express as px"
   ]
  },
  {
   "cell_type": "code",
   "execution_count": 3,
   "metadata": {},
   "outputs": [],
   "source": [
    "# User CLI Inputs: CSV__INPUT, TIME__PERIOD__LENGTH\n",
    "CSV__INPUT = 'reddit_vm'"
   ]
  },
  {
   "cell_type": "code",
   "execution_count": 4,
   "metadata": {},
   "outputs": [
    {
     "name": "stdout",
     "output_type": "stream",
     "text": [
      "Datetime column found: timestamp\n"
     ]
    },
    {
     "data": {
      "text/html": [
       "<div><style>\n",
       ".dataframe > thead > tr,\n",
       ".dataframe > tbody > tr {\n",
       "  text-align: right;\n",
       "  white-space: pre-wrap;\n",
       "}\n",
       "</style>\n",
       "<small>shape: (5, 8)</small><table border=\"1\" class=\"dataframe\"><thead><tr><th>title</th><th>score</th><th>id</th><th>url</th><th>comms_num</th><th>created</th><th>body</th><th>timestamp</th></tr><tr><td>str</td><td>i64</td><td>str</td><td>str</td><td>i64</td><td>f64</td><td>str</td><td>datetime[μs]</td></tr></thead><tbody><tr><td>&quot;Health Canada approves AstraZe…</td><td>7</td><td>&quot;lt74vw&quot;</td><td>&quot;https://www.canadaforums.ca/20…</td><td>0</td><td>1.6144e9</td><td>null</td><td>2021-02-27 06:33:45</td></tr><tr><td>&quot;COVID-19 in Canada: &#x27;Vaccinati…</td><td>2</td><td>&quot;lsh0ij&quot;</td><td>&quot;https://www.canadaforums.ca/20…</td><td>1</td><td>1.6143e9</td><td>null</td><td>2021-02-26 07:11:07</td></tr><tr><td>&quot;Coronavirus variants could fue…</td><td>6</td><td>&quot;lohlle&quot;</td><td>&quot;https://www.canadaforums.ca/20…</td><td>0</td><td>1.6139e9</td><td>null</td><td>2021-02-21 07:50:08</td></tr><tr><td>&quot;Canadian government to extend …</td><td>1</td><td>&quot;lnptv8&quot;</td><td>&quot;https://www.canadaforums.ca/20…</td><td>0</td><td>1.6138e9</td><td>null</td><td>2021-02-20 06:35:13</td></tr><tr><td>&quot;Canada: Pfizer is &#x27;extremely c…</td><td>6</td><td>&quot;lkslm6&quot;</td><td>&quot;https://www.canadaforums.ca/20…</td><td>0</td><td>1.6135e9</td><td>null</td><td>2021-02-16 11:36:28</td></tr></tbody></table></div>"
      ],
      "text/plain": [
       "shape: (5, 8)\n",
       "┌─────────────────┬───────┬────────┬────────────────┬───────────┬──────────┬──────┬────────────────┐\n",
       "│ title           ┆ score ┆ id     ┆ url            ┆ comms_num ┆ created  ┆ body ┆ timestamp      │\n",
       "│ ---             ┆ ---   ┆ ---    ┆ ---            ┆ ---       ┆ ---      ┆ ---  ┆ ---            │\n",
       "│ str             ┆ i64   ┆ str    ┆ str            ┆ i64       ┆ f64      ┆ str  ┆ datetime[μs]   │\n",
       "╞═════════════════╪═══════╪════════╪════════════════╪═══════════╪══════════╪══════╪════════════════╡\n",
       "│ Health Canada   ┆ 7     ┆ lt74vw ┆ https://www.ca ┆ 0         ┆ 1.6144e9 ┆ null ┆ 2021-02-27     │\n",
       "│ approves        ┆       ┆        ┆ nadaforums.ca/ ┆           ┆          ┆      ┆ 06:33:45       │\n",
       "│ AstraZe…        ┆       ┆        ┆ 20…            ┆           ┆          ┆      ┆                │\n",
       "│ COVID-19 in     ┆ 2     ┆ lsh0ij ┆ https://www.ca ┆ 1         ┆ 1.6143e9 ┆ null ┆ 2021-02-26     │\n",
       "│ Canada:         ┆       ┆        ┆ nadaforums.ca/ ┆           ┆          ┆      ┆ 07:11:07       │\n",
       "│ 'Vaccinati…     ┆       ┆        ┆ 20…            ┆           ┆          ┆      ┆                │\n",
       "│ Coronavirus     ┆ 6     ┆ lohlle ┆ https://www.ca ┆ 0         ┆ 1.6139e9 ┆ null ┆ 2021-02-21     │\n",
       "│ variants could  ┆       ┆        ┆ nadaforums.ca/ ┆           ┆          ┆      ┆ 07:50:08       │\n",
       "│ fue…            ┆       ┆        ┆ 20…            ┆           ┆          ┆      ┆                │\n",
       "│ Canadian        ┆ 1     ┆ lnptv8 ┆ https://www.ca ┆ 0         ┆ 1.6138e9 ┆ null ┆ 2021-02-20     │\n",
       "│ government to   ┆       ┆        ┆ nadaforums.ca/ ┆           ┆          ┆      ┆ 06:35:13       │\n",
       "│ extend …        ┆       ┆        ┆ 20…            ┆           ┆          ┆      ┆                │\n",
       "│ Canada: Pfizer  ┆ 6     ┆ lkslm6 ┆ https://www.ca ┆ 0         ┆ 1.6135e9 ┆ null ┆ 2021-02-16     │\n",
       "│ is 'extremely   ┆       ┆        ┆ nadaforums.ca/ ┆           ┆          ┆      ┆ 11:36:28       │\n",
       "│ c…              ┆       ┆        ┆ 20…            ┆           ┆          ┆      ┆                │\n",
       "└─────────────────┴───────┴────────┴────────────────┴───────────┴──────────┴──────┴────────────────┘"
      ]
     },
     "metadata": {},
     "output_type": "display_data"
    }
   ],
   "source": [
    "def load_csv(CSV__INPUT: str):\n",
    "    \"\"\"\n",
    "    Given user selection in the CLI of a CSV to analyze, the CSV is read in as a Polars dataframe and an attempt at auto-detection of\n",
    "    the datetime column is made.\n",
    "\n",
    "    Parameters:\n",
    "    - CSV__INPUT: the name of the csv file in string format\n",
    "\n",
    "    Returns:\n",
    "    - df: a Polars dataframe made from the loaded CSV with a chosen datetime column formatted.\n",
    "    - datetime_column_name: a string value of the chosen datetime column name. \n",
    "\n",
    "    # TODO: List out all possible datetime formats that Polars can automatically detect for transparency to non-technical users. We can potentially code out other options that Polars does not cover. \n",
    "    \"\"\"\n",
    "\n",
    "    df = pl.read_csv(f'../../sample_data/{CSV__INPUT}.csv', try_parse_dates = True)\n",
    "    dtype_dict = dict(zip(df.columns, df.dtypes))\n",
    "\n",
    "    datetime_cols = [col for col, dtype in dtype_dict.items() if isinstance(dtype, pl.Datetime)]\n",
    "    if len(datetime_cols) == 0:\n",
    "        raise TypeError('No datetime columns were found.')\n",
    "    elif len(datetime_cols) > 1:\n",
    "        print(f'More than one datetime column found. Please choose one of the following to analyze: {datetime_cols}')\n",
    "        # TODO: Create CLI interaction where user must choose which datetime column to analyze and relabel dataset.\n",
    "        raise TypeError('Multiple datetime columns were found. Choosing a column on CLI is not yet supported, please remove other datetime columns for the time being.')\n",
    "    else:\n",
    "        print(f'Datetime column found: {datetime_cols[0]}')\n",
    "        datetime_col_name = datetime_cols[0]\n",
    "\n",
    "    display(df.head(5))\n",
    "    return df, datetime_col_name\n",
    "    \n",
    "df, datetime_col_name = load_csv(CSV__INPUT)"
   ]
  },
  {
   "cell_type": "code",
   "execution_count": 8,
   "metadata": {},
   "outputs": [
    {
     "data": {
      "text/html": [
       "<div><style>\n",
       ".dataframe > thead > tr,\n",
       ".dataframe > tbody > tr {\n",
       "  text-align: right;\n",
       "  white-space: pre-wrap;\n",
       "}\n",
       "</style>\n",
       "<small>shape: (5, 11)</small><table border=\"1\" class=\"dataframe\"><thead><tr><th>title</th><th>score</th><th>id</th><th>url</th><th>comms_num</th><th>created</th><th>body</th><th>timestamp</th><th>hour</th><th>minute</th><th>minute_of_day</th></tr><tr><td>str</td><td>i64</td><td>str</td><td>str</td><td>i64</td><td>f64</td><td>str</td><td>datetime[ms]</td><td>i64</td><td>i64</td><td>i64</td></tr></thead><tbody><tr><td>&quot;Health Canada approves AstraZe…</td><td>7</td><td>&quot;lt74vw&quot;</td><td>&quot;https://www.canadaforums.ca/20…</td><td>0</td><td>1.6144e9</td><td>null</td><td>2021-02-27 06:33:45</td><td>6</td><td>33</td><td>393</td></tr><tr><td>&quot;COVID-19 in Canada: &#x27;Vaccinati…</td><td>2</td><td>&quot;lsh0ij&quot;</td><td>&quot;https://www.canadaforums.ca/20…</td><td>1</td><td>1.6143e9</td><td>null</td><td>2021-02-26 07:11:07</td><td>7</td><td>11</td><td>431</td></tr><tr><td>&quot;Coronavirus variants could fue…</td><td>6</td><td>&quot;lohlle&quot;</td><td>&quot;https://www.canadaforums.ca/20…</td><td>0</td><td>1.6139e9</td><td>null</td><td>2021-02-21 07:50:08</td><td>7</td><td>50</td><td>470</td></tr><tr><td>&quot;Canadian government to extend …</td><td>1</td><td>&quot;lnptv8&quot;</td><td>&quot;https://www.canadaforums.ca/20…</td><td>0</td><td>1.6138e9</td><td>null</td><td>2021-02-20 06:35:13</td><td>6</td><td>35</td><td>395</td></tr><tr><td>&quot;Canada: Pfizer is &#x27;extremely c…</td><td>6</td><td>&quot;lkslm6&quot;</td><td>&quot;https://www.canadaforums.ca/20…</td><td>0</td><td>1.6135e9</td><td>null</td><td>2021-02-16 11:36:28</td><td>11</td><td>36</td><td>696</td></tr></tbody></table></div>"
      ],
      "text/plain": [
       "shape: (5, 11)\n",
       "┌───────────────┬───────┬────────┬───────────────┬───┬──────────────┬──────┬────────┬──────────────┐\n",
       "│ title         ┆ score ┆ id     ┆ url           ┆ … ┆ timestamp    ┆ hour ┆ minute ┆ minute_of_da │\n",
       "│ ---           ┆ ---   ┆ ---    ┆ ---           ┆   ┆ ---          ┆ ---  ┆ ---    ┆ y            │\n",
       "│ str           ┆ i64   ┆ str    ┆ str           ┆   ┆ datetime[ms] ┆ i64  ┆ i64    ┆ ---          │\n",
       "│               ┆       ┆        ┆               ┆   ┆              ┆      ┆        ┆ i64          │\n",
       "╞═══════════════╪═══════╪════════╪═══════════════╪═══╪══════════════╪══════╪════════╪══════════════╡\n",
       "│ Health Canada ┆ 7     ┆ lt74vw ┆ https://www.c ┆ … ┆ 2021-02-27   ┆ 6    ┆ 33     ┆ 393          │\n",
       "│ approves      ┆       ┆        ┆ anadaforums.c ┆   ┆ 06:33:45     ┆      ┆        ┆              │\n",
       "│ AstraZe…      ┆       ┆        ┆ a/20…         ┆   ┆              ┆      ┆        ┆              │\n",
       "│ COVID-19 in   ┆ 2     ┆ lsh0ij ┆ https://www.c ┆ … ┆ 2021-02-26   ┆ 7    ┆ 11     ┆ 431          │\n",
       "│ Canada:       ┆       ┆        ┆ anadaforums.c ┆   ┆ 07:11:07     ┆      ┆        ┆              │\n",
       "│ 'Vaccinati…   ┆       ┆        ┆ a/20…         ┆   ┆              ┆      ┆        ┆              │\n",
       "│ Coronavirus   ┆ 6     ┆ lohlle ┆ https://www.c ┆ … ┆ 2021-02-21   ┆ 7    ┆ 50     ┆ 470          │\n",
       "│ variants      ┆       ┆        ┆ anadaforums.c ┆   ┆ 07:50:08     ┆      ┆        ┆              │\n",
       "│ could fue…    ┆       ┆        ┆ a/20…         ┆   ┆              ┆      ┆        ┆              │\n",
       "│ Canadian      ┆ 1     ┆ lnptv8 ┆ https://www.c ┆ … ┆ 2021-02-20   ┆ 6    ┆ 35     ┆ 395          │\n",
       "│ government to ┆       ┆        ┆ anadaforums.c ┆   ┆ 06:35:13     ┆      ┆        ┆              │\n",
       "│ extend …      ┆       ┆        ┆ a/20…         ┆   ┆              ┆      ┆        ┆              │\n",
       "│ Canada:       ┆ 6     ┆ lkslm6 ┆ https://www.c ┆ … ┆ 2021-02-16   ┆ 11   ┆ 36     ┆ 696          │\n",
       "│ Pfizer is     ┆       ┆        ┆ anadaforums.c ┆   ┆ 11:36:28     ┆      ┆        ┆              │\n",
       "│ 'extremely c… ┆       ┆        ┆ a/20…         ┆   ┆              ┆      ┆        ┆              │\n",
       "└───────────────┴───────┴────────┴───────────────┴───┴──────────────┴──────┴────────┴──────────────┘"
      ]
     },
     "execution_count": 8,
     "metadata": {},
     "output_type": "execute_result"
    }
   ],
   "source": [
    "def process_datetime_feature_engineering(df: pl.DataFrame, datetime_col_name: str):\n",
    "    \"\"\"\n",
    "    Based off of a datetime column, create useful datetime-related columns such as hour, minute, and minute of day. \n",
    "\n",
    "    Parameters:\n",
    "    - df: a Polars dataframe containing a column with the datetime datatype.\n",
    "    - datetime_col_name: a chosen column name (str) resembling the datetime data\n",
    "\n",
    "    Returns:\n",
    "    - df: a Polars dataframe with additional columns extracted from datetime_col_name of df\n",
    "\n",
    "    \"\"\"\n",
    "    df = df.with_columns(\n",
    "            pl.col(datetime_col_name).dt.cast_time_unit(\"ms\").dt.replace_time_zone(None)\n",
    "        ).with_columns(\n",
    "            (pl.col(datetime_col_name).dt.hour()).cast(int).alias(\"hour\"), # extract hour from timestamp and ensure that the integer type has a large enough bit-size (defaults to i8 without casting)\n",
    "            (pl.col(datetime_col_name).dt.minute().cast(int).alias(\"minute\")),  # extract minute from timestamp and ensure that the integer type has a large enough bit-size (defaults to i8 without casting)\n",
    "        ).with_columns(\n",
    "            (pl.col(\"hour\")*60 + pl.col(\"minute\")).alias(\"minute_of_day\") # get the minute marker in the day\n",
    "        )\n",
    "    return df\n",
    "\n",
    "df = process_datetime_feature_engineering(df, datetime_col_name)\n",
    "df.head()"
   ]
  },
  {
   "cell_type": "code",
   "execution_count": 112,
   "metadata": {},
   "outputs": [
    {
     "data": {
      "application/vnd.plotly.v1+json": {
       "config": {
        "plotlyServerURL": "https://plot.ly"
       },
       "data": [
        {
         "alignmentgroup": "True",
         "hovertemplate": "30-Minute Period Label=%{x}<br>Count=%{y}<extra></extra>",
         "legendgroup": "",
         "marker": {
          "color": "#636efa",
          "pattern": {
           "shape": ""
          }
         },
         "name": "",
         "offsetgroup": "",
         "orientation": "v",
         "showlegend": false,
         "textposition": "auto",
         "type": "bar",
         "x": [
          "00:00-00:30",
          "00:30-01:00",
          "01:00-01:30",
          "01:30-02:00",
          "02:00-02:30",
          "02:30-03:00",
          "03:00-03:30",
          "03:30-04:00",
          "04:00-04:30",
          "04:30-05:00",
          "05:00-05:30",
          "05:30-06:00",
          "06:00-06:30",
          "06:30-07:00",
          "07:00-07:30",
          "07:30-08:00",
          "08:00-08:30",
          "08:30-09:00",
          "09:00-09:30",
          "09:30-10:00",
          "10:00-10:30",
          "10:30-11:00",
          "11:00-11:30",
          "11:30-12:00",
          "12:00-12:30",
          "12:30-13:00",
          "13:00-13:30",
          "13:30-14:00",
          "14:00-14:30",
          "14:30-15:00",
          "15:00-15:30",
          "15:30-16:00",
          "16:00-16:30",
          "16:30-17:00",
          "17:00-17:30",
          "17:30-18:00",
          "18:00-18:30",
          "18:30-19:00",
          "19:00-19:30",
          "19:30-20:00",
          "20:00-20:30",
          "20:30-21:00",
          "21:00-21:30",
          "21:30-22:00",
          "22:00-22:30",
          "22:30-23:00",
          "23:00-23:30",
          "23:30-00:00"
         ],
         "xaxis": "x",
         "y": [
          26,
          45,
          40,
          33,
          38,
          50,
          41,
          34,
          25,
          27,
          41,
          38,
          49,
          38,
          34,
          25,
          30,
          33,
          34,
          22,
          22,
          18,
          14,
          20,
          12,
          21,
          19,
          15,
          19,
          34,
          27,
          43,
          35,
          38,
          26,
          35,
          42,
          46,
          38,
          34,
          39,
          29,
          38,
          37,
          41,
          38,
          47,
          36
         ],
         "yaxis": "y"
        }
       ],
       "layout": {
        "barmode": "relative",
        "legend": {
         "tracegroupgap": 0
        },
        "template": {
         "data": {
          "bar": [
           {
            "error_x": {
             "color": "#2a3f5f"
            },
            "error_y": {
             "color": "#2a3f5f"
            },
            "marker": {
             "line": {
              "color": "#E5ECF6",
              "width": 0.5
             },
             "pattern": {
              "fillmode": "overlay",
              "size": 10,
              "solidity": 0.2
             }
            },
            "type": "bar"
           }
          ],
          "barpolar": [
           {
            "marker": {
             "line": {
              "color": "#E5ECF6",
              "width": 0.5
             },
             "pattern": {
              "fillmode": "overlay",
              "size": 10,
              "solidity": 0.2
             }
            },
            "type": "barpolar"
           }
          ],
          "carpet": [
           {
            "aaxis": {
             "endlinecolor": "#2a3f5f",
             "gridcolor": "white",
             "linecolor": "white",
             "minorgridcolor": "white",
             "startlinecolor": "#2a3f5f"
            },
            "baxis": {
             "endlinecolor": "#2a3f5f",
             "gridcolor": "white",
             "linecolor": "white",
             "minorgridcolor": "white",
             "startlinecolor": "#2a3f5f"
            },
            "type": "carpet"
           }
          ],
          "choropleth": [
           {
            "colorbar": {
             "outlinewidth": 0,
             "ticks": ""
            },
            "type": "choropleth"
           }
          ],
          "contour": [
           {
            "colorbar": {
             "outlinewidth": 0,
             "ticks": ""
            },
            "colorscale": [
             [
              0,
              "#0d0887"
             ],
             [
              0.1111111111111111,
              "#46039f"
             ],
             [
              0.2222222222222222,
              "#7201a8"
             ],
             [
              0.3333333333333333,
              "#9c179e"
             ],
             [
              0.4444444444444444,
              "#bd3786"
             ],
             [
              0.5555555555555556,
              "#d8576b"
             ],
             [
              0.6666666666666666,
              "#ed7953"
             ],
             [
              0.7777777777777778,
              "#fb9f3a"
             ],
             [
              0.8888888888888888,
              "#fdca26"
             ],
             [
              1,
              "#f0f921"
             ]
            ],
            "type": "contour"
           }
          ],
          "contourcarpet": [
           {
            "colorbar": {
             "outlinewidth": 0,
             "ticks": ""
            },
            "type": "contourcarpet"
           }
          ],
          "heatmap": [
           {
            "colorbar": {
             "outlinewidth": 0,
             "ticks": ""
            },
            "colorscale": [
             [
              0,
              "#0d0887"
             ],
             [
              0.1111111111111111,
              "#46039f"
             ],
             [
              0.2222222222222222,
              "#7201a8"
             ],
             [
              0.3333333333333333,
              "#9c179e"
             ],
             [
              0.4444444444444444,
              "#bd3786"
             ],
             [
              0.5555555555555556,
              "#d8576b"
             ],
             [
              0.6666666666666666,
              "#ed7953"
             ],
             [
              0.7777777777777778,
              "#fb9f3a"
             ],
             [
              0.8888888888888888,
              "#fdca26"
             ],
             [
              1,
              "#f0f921"
             ]
            ],
            "type": "heatmap"
           }
          ],
          "heatmapgl": [
           {
            "colorbar": {
             "outlinewidth": 0,
             "ticks": ""
            },
            "colorscale": [
             [
              0,
              "#0d0887"
             ],
             [
              0.1111111111111111,
              "#46039f"
             ],
             [
              0.2222222222222222,
              "#7201a8"
             ],
             [
              0.3333333333333333,
              "#9c179e"
             ],
             [
              0.4444444444444444,
              "#bd3786"
             ],
             [
              0.5555555555555556,
              "#d8576b"
             ],
             [
              0.6666666666666666,
              "#ed7953"
             ],
             [
              0.7777777777777778,
              "#fb9f3a"
             ],
             [
              0.8888888888888888,
              "#fdca26"
             ],
             [
              1,
              "#f0f921"
             ]
            ],
            "type": "heatmapgl"
           }
          ],
          "histogram": [
           {
            "marker": {
             "pattern": {
              "fillmode": "overlay",
              "size": 10,
              "solidity": 0.2
             }
            },
            "type": "histogram"
           }
          ],
          "histogram2d": [
           {
            "colorbar": {
             "outlinewidth": 0,
             "ticks": ""
            },
            "colorscale": [
             [
              0,
              "#0d0887"
             ],
             [
              0.1111111111111111,
              "#46039f"
             ],
             [
              0.2222222222222222,
              "#7201a8"
             ],
             [
              0.3333333333333333,
              "#9c179e"
             ],
             [
              0.4444444444444444,
              "#bd3786"
             ],
             [
              0.5555555555555556,
              "#d8576b"
             ],
             [
              0.6666666666666666,
              "#ed7953"
             ],
             [
              0.7777777777777778,
              "#fb9f3a"
             ],
             [
              0.8888888888888888,
              "#fdca26"
             ],
             [
              1,
              "#f0f921"
             ]
            ],
            "type": "histogram2d"
           }
          ],
          "histogram2dcontour": [
           {
            "colorbar": {
             "outlinewidth": 0,
             "ticks": ""
            },
            "colorscale": [
             [
              0,
              "#0d0887"
             ],
             [
              0.1111111111111111,
              "#46039f"
             ],
             [
              0.2222222222222222,
              "#7201a8"
             ],
             [
              0.3333333333333333,
              "#9c179e"
             ],
             [
              0.4444444444444444,
              "#bd3786"
             ],
             [
              0.5555555555555556,
              "#d8576b"
             ],
             [
              0.6666666666666666,
              "#ed7953"
             ],
             [
              0.7777777777777778,
              "#fb9f3a"
             ],
             [
              0.8888888888888888,
              "#fdca26"
             ],
             [
              1,
              "#f0f921"
             ]
            ],
            "type": "histogram2dcontour"
           }
          ],
          "mesh3d": [
           {
            "colorbar": {
             "outlinewidth": 0,
             "ticks": ""
            },
            "type": "mesh3d"
           }
          ],
          "parcoords": [
           {
            "line": {
             "colorbar": {
              "outlinewidth": 0,
              "ticks": ""
             }
            },
            "type": "parcoords"
           }
          ],
          "pie": [
           {
            "automargin": true,
            "type": "pie"
           }
          ],
          "scatter": [
           {
            "fillpattern": {
             "fillmode": "overlay",
             "size": 10,
             "solidity": 0.2
            },
            "type": "scatter"
           }
          ],
          "scatter3d": [
           {
            "line": {
             "colorbar": {
              "outlinewidth": 0,
              "ticks": ""
             }
            },
            "marker": {
             "colorbar": {
              "outlinewidth": 0,
              "ticks": ""
             }
            },
            "type": "scatter3d"
           }
          ],
          "scattercarpet": [
           {
            "marker": {
             "colorbar": {
              "outlinewidth": 0,
              "ticks": ""
             }
            },
            "type": "scattercarpet"
           }
          ],
          "scattergeo": [
           {
            "marker": {
             "colorbar": {
              "outlinewidth": 0,
              "ticks": ""
             }
            },
            "type": "scattergeo"
           }
          ],
          "scattergl": [
           {
            "marker": {
             "colorbar": {
              "outlinewidth": 0,
              "ticks": ""
             }
            },
            "type": "scattergl"
           }
          ],
          "scattermapbox": [
           {
            "marker": {
             "colorbar": {
              "outlinewidth": 0,
              "ticks": ""
             }
            },
            "type": "scattermapbox"
           }
          ],
          "scatterpolar": [
           {
            "marker": {
             "colorbar": {
              "outlinewidth": 0,
              "ticks": ""
             }
            },
            "type": "scatterpolar"
           }
          ],
          "scatterpolargl": [
           {
            "marker": {
             "colorbar": {
              "outlinewidth": 0,
              "ticks": ""
             }
            },
            "type": "scatterpolargl"
           }
          ],
          "scatterternary": [
           {
            "marker": {
             "colorbar": {
              "outlinewidth": 0,
              "ticks": ""
             }
            },
            "type": "scatterternary"
           }
          ],
          "surface": [
           {
            "colorbar": {
             "outlinewidth": 0,
             "ticks": ""
            },
            "colorscale": [
             [
              0,
              "#0d0887"
             ],
             [
              0.1111111111111111,
              "#46039f"
             ],
             [
              0.2222222222222222,
              "#7201a8"
             ],
             [
              0.3333333333333333,
              "#9c179e"
             ],
             [
              0.4444444444444444,
              "#bd3786"
             ],
             [
              0.5555555555555556,
              "#d8576b"
             ],
             [
              0.6666666666666666,
              "#ed7953"
             ],
             [
              0.7777777777777778,
              "#fb9f3a"
             ],
             [
              0.8888888888888888,
              "#fdca26"
             ],
             [
              1,
              "#f0f921"
             ]
            ],
            "type": "surface"
           }
          ],
          "table": [
           {
            "cells": {
             "fill": {
              "color": "#EBF0F8"
             },
             "line": {
              "color": "white"
             }
            },
            "header": {
             "fill": {
              "color": "#C8D4E3"
             },
             "line": {
              "color": "white"
             }
            },
            "type": "table"
           }
          ]
         },
         "layout": {
          "annotationdefaults": {
           "arrowcolor": "#2a3f5f",
           "arrowhead": 0,
           "arrowwidth": 1
          },
          "autotypenumbers": "strict",
          "coloraxis": {
           "colorbar": {
            "outlinewidth": 0,
            "ticks": ""
           }
          },
          "colorscale": {
           "diverging": [
            [
             0,
             "#8e0152"
            ],
            [
             0.1,
             "#c51b7d"
            ],
            [
             0.2,
             "#de77ae"
            ],
            [
             0.3,
             "#f1b6da"
            ],
            [
             0.4,
             "#fde0ef"
            ],
            [
             0.5,
             "#f7f7f7"
            ],
            [
             0.6,
             "#e6f5d0"
            ],
            [
             0.7,
             "#b8e186"
            ],
            [
             0.8,
             "#7fbc41"
            ],
            [
             0.9,
             "#4d9221"
            ],
            [
             1,
             "#276419"
            ]
           ],
           "sequential": [
            [
             0,
             "#0d0887"
            ],
            [
             0.1111111111111111,
             "#46039f"
            ],
            [
             0.2222222222222222,
             "#7201a8"
            ],
            [
             0.3333333333333333,
             "#9c179e"
            ],
            [
             0.4444444444444444,
             "#bd3786"
            ],
            [
             0.5555555555555556,
             "#d8576b"
            ],
            [
             0.6666666666666666,
             "#ed7953"
            ],
            [
             0.7777777777777778,
             "#fb9f3a"
            ],
            [
             0.8888888888888888,
             "#fdca26"
            ],
            [
             1,
             "#f0f921"
            ]
           ],
           "sequentialminus": [
            [
             0,
             "#0d0887"
            ],
            [
             0.1111111111111111,
             "#46039f"
            ],
            [
             0.2222222222222222,
             "#7201a8"
            ],
            [
             0.3333333333333333,
             "#9c179e"
            ],
            [
             0.4444444444444444,
             "#bd3786"
            ],
            [
             0.5555555555555556,
             "#d8576b"
            ],
            [
             0.6666666666666666,
             "#ed7953"
            ],
            [
             0.7777777777777778,
             "#fb9f3a"
            ],
            [
             0.8888888888888888,
             "#fdca26"
            ],
            [
             1,
             "#f0f921"
            ]
           ]
          },
          "colorway": [
           "#636efa",
           "#EF553B",
           "#00cc96",
           "#ab63fa",
           "#FFA15A",
           "#19d3f3",
           "#FF6692",
           "#B6E880",
           "#FF97FF",
           "#FECB52"
          ],
          "font": {
           "color": "#2a3f5f"
          },
          "geo": {
           "bgcolor": "white",
           "lakecolor": "white",
           "landcolor": "#E5ECF6",
           "showlakes": true,
           "showland": true,
           "subunitcolor": "white"
          },
          "hoverlabel": {
           "align": "left"
          },
          "hovermode": "closest",
          "mapbox": {
           "style": "light"
          },
          "paper_bgcolor": "white",
          "plot_bgcolor": "#E5ECF6",
          "polar": {
           "angularaxis": {
            "gridcolor": "white",
            "linecolor": "white",
            "ticks": ""
           },
           "bgcolor": "#E5ECF6",
           "radialaxis": {
            "gridcolor": "white",
            "linecolor": "white",
            "ticks": ""
           }
          },
          "scene": {
           "xaxis": {
            "backgroundcolor": "#E5ECF6",
            "gridcolor": "white",
            "gridwidth": 2,
            "linecolor": "white",
            "showbackground": true,
            "ticks": "",
            "zerolinecolor": "white"
           },
           "yaxis": {
            "backgroundcolor": "#E5ECF6",
            "gridcolor": "white",
            "gridwidth": 2,
            "linecolor": "white",
            "showbackground": true,
            "ticks": "",
            "zerolinecolor": "white"
           },
           "zaxis": {
            "backgroundcolor": "#E5ECF6",
            "gridcolor": "white",
            "gridwidth": 2,
            "linecolor": "white",
            "showbackground": true,
            "ticks": "",
            "zerolinecolor": "white"
           }
          },
          "shapedefaults": {
           "line": {
            "color": "#2a3f5f"
           }
          },
          "ternary": {
           "aaxis": {
            "gridcolor": "white",
            "linecolor": "white",
            "ticks": ""
           },
           "baxis": {
            "gridcolor": "white",
            "linecolor": "white",
            "ticks": ""
           },
           "bgcolor": "#E5ECF6",
           "caxis": {
            "gridcolor": "white",
            "linecolor": "white",
            "ticks": ""
           }
          },
          "title": {
           "x": 0.05
          },
          "xaxis": {
           "automargin": true,
           "gridcolor": "white",
           "linecolor": "white",
           "ticks": "",
           "title": {
            "standoff": 15
           },
           "zerolinecolor": "white",
           "zerolinewidth": 2
          },
          "yaxis": {
           "automargin": true,
           "gridcolor": "white",
           "linecolor": "white",
           "ticks": "",
           "title": {
            "standoff": 15
           },
           "zerolinecolor": "white",
           "zerolinewidth": 2
          }
         }
        },
        "title": {
         "text": "Record Frequency Split by 30 Minutes"
        },
        "xaxis": {
         "anchor": "y",
         "domain": [
          0,
          1
         ],
         "title": {
          "text": "30-Minute Period Label"
         }
        },
        "yaxis": {
         "anchor": "x",
         "domain": [
          0,
          1
         ],
         "title": {
          "text": "Count"
         }
        }
       }
      }
     },
     "metadata": {},
     "output_type": "display_data"
    },
    {
     "data": {
      "text/html": [
       "<div><style>\n",
       ".dataframe > thead > tr,\n",
       ".dataframe > tbody > tr {\n",
       "  text-align: right;\n",
       "  white-space: pre-wrap;\n",
       "}\n",
       "</style>\n",
       "<small>shape: (5, 2)</small><table border=\"1\" class=\"dataframe\"><thead><tr><th>minute_split_group</th><th>count</th></tr><tr><td>str</td><td>u32</td></tr></thead><tbody><tr><td>&quot;00:00-00:30&quot;</td><td>26</td></tr><tr><td>&quot;00:30-01:00&quot;</td><td>45</td></tr><tr><td>&quot;01:00-01:30&quot;</td><td>40</td></tr><tr><td>&quot;01:30-02:00&quot;</td><td>33</td></tr><tr><td>&quot;02:00-02:30&quot;</td><td>38</td></tr></tbody></table></div>"
      ],
      "text/plain": [
       "shape: (5, 2)\n",
       "┌────────────────────┬───────┐\n",
       "│ minute_split_group ┆ count │\n",
       "│ ---                ┆ ---   │\n",
       "│ str                ┆ u32   │\n",
       "╞════════════════════╪═══════╡\n",
       "│ 00:00-00:30        ┆ 26    │\n",
       "│ 00:30-01:00        ┆ 45    │\n",
       "│ 01:00-01:30        ┆ 40    │\n",
       "│ 01:30-02:00        ┆ 33    │\n",
       "│ 02:00-02:30        ┆ 38    │\n",
       "└────────────────────┴───────┘"
      ]
     },
     "execution_count": 112,
     "metadata": {},
     "output_type": "execute_result"
    }
   ],
   "source": [
    "# The CLI gives the user a choice for how many minutes they want to break down the temporal data.\n",
    "TIME__PERIOD__LENGTH = 30\n",
    "# TODO: add capacity for unique users\n",
    "\n",
    "def create_time_period_label_dict(TIME__PERIOD__LENGTH):\n",
    "    \"\"\"\n",
    "    A helper function to generate a dictionary assigned time period index to time period labels\n",
    "    \"\"\"\n",
    "    # extract the hour of the day and minute of the hour for the starting time of each period\n",
    "    start_time_array = np.array([str(i//60).zfill(2) + \":\" + str(int(np.round(((i/60)%1)*60))).zfill(2) for i in np.arange(0, 1440, TIME__PERIOD__LENGTH)])\n",
    "    \n",
    "    time_period_dict = {}\n",
    "    for i in range(len(start_time_array)):\n",
    "        if i == len(start_time_array) - 1:\n",
    "            time_period_dict[i] = start_time_array[i] + \"-\" + \"00:00\"\n",
    "        else:\n",
    "            time_period_dict[i] = start_time_array[i] + \"-\" + start_time_array[i+1]\n",
    "    return time_period_dict\n",
    "\n",
    "def analyze_time_of_day(df, TIME__PERIOD__LENGTH=60):\n",
    "    \"\"\"\n",
    "    Based on the provided Polars dataframe and a specified number of minutes to divide a day up into, group the data \n",
    "    into TIME__PERIOD__LENGTH-long periods. After that, convert it into a Pandas dataframe and display a bar graph using\n",
    "    Plotly Express detailing the record frequency over time. \n",
    "\n",
    "    Parameters:\n",
    "    - df: a Polars dataframe containing a column with the datetime datatype.\n",
    "    - datetime_col_name: a chosen column name (str) resembling the datetime data\n",
    "\n",
    "    Returns:\n",
    "    - df: a Polars dataframe with additional columns extracted from datetime_col_name of df\n",
    "\n",
    "    \"\"\"\n",
    "    if (1440/TIME__PERIOD__LENGTH % 1) != 0:\n",
    "        print(f\"Warning: The number of minutes you provided ({TIME__PERIOD__LENGTH}) do not divide evenly so the created time periods will not be equal.\\\n",
    "        \\nWe recommend numbers that are factors of 1440 such as 10, 15, 30, 45, 60, 120, etc.\")\n",
    "        # TODO: Add a CLI of 'Would you like to proceed?'\n",
    "\n",
    "    # Group the dataframe based on TIME__PERIOD__LENGTH parameter\n",
    "    grouped_df = df.with_columns(\n",
    "                    (pl.col(\"minute_of_day\") // TIME__PERIOD__LENGTH).alias(\"minute_split_group\")\n",
    "                ).group_by(\"minute_split_group\").agg([\n",
    "                    pl.col(\"minute_of_day\").count().alias(\"count\")\n",
    "                ]).sort(\"minute_split_group\")\n",
    "\n",
    "    # Relabel minute_split_group values to time periods.\n",
    "    time_period_label_dict = create_time_period_label_dict(TIME__PERIOD__LENGTH)\n",
    "    grouped_df = grouped_df.with_columns(\n",
    "                    grouped_df['minute_split_group'].replace_strict(time_period_label_dict).alias(\"minute_split_group\")\n",
    "                )\n",
    "\n",
    "    # Create the Plotly bar graph\n",
    "    fig = px.bar(grouped_df.to_pandas(), \n",
    "                x='minute_split_group', \n",
    "                y='count', \n",
    "                orientation='v',\n",
    "                title=f'Record Frequency Split by {TIME__PERIOD__LENGTH} Minutes', \n",
    "                labels={'minute_split_group': f'{TIME__PERIOD__LENGTH}-Minute Period Label', 'count': 'Count'},\n",
    "            )\n",
    "\n",
    "    # Show the plot\n",
    "    fig.show() # TODO: Allow for graph export and/or upload to HTML\n",
    "\n",
    "    return grouped_df\n",
    "\n",
    "grouped_tod_df = analyze_time_of_day(df, TIME__PERIOD__LENGTH)\n",
    "grouped_tod_df.head()"
   ]
  },
  {
   "cell_type": "code",
   "execution_count": 9,
   "metadata": {},
   "outputs": [],
   "source": [
    "\n",
    "# TODO LIST:\n",
    "### DATE BREAKDOWN\n",
    "### DAY OF WEEK BREAKDOWN"
   ]
  }
 ],
 "metadata": {
  "kernelspec": {
   "display_name": "venv",
   "language": "python",
   "name": "python3"
  },
  "language_info": {
   "codemirror_mode": {
    "name": "ipython",
    "version": 3
   },
   "file_extension": ".py",
   "mimetype": "text/x-python",
   "name": "python",
   "nbconvert_exporter": "python",
   "pygments_lexer": "ipython3",
   "version": "3.12.4"
  }
 },
 "nbformat": 4,
 "nbformat_minor": 2
}
