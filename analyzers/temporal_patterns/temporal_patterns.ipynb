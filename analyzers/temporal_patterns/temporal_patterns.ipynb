{
 "cells": [
  {
   "cell_type": "code",
   "execution_count": 1,
   "metadata": {},
   "outputs": [],
   "source": [
    "import polars as pl"
   ]
  },
  {
   "cell_type": "code",
   "execution_count": 2,
   "metadata": {},
   "outputs": [
    {
     "name": "stdout",
     "output_type": "stream",
     "text": [
      "Datetime column found: timestamp\n"
     ]
    },
    {
     "data": {
      "text/html": [
       "<div><style>\n",
       ".dataframe > thead > tr,\n",
       ".dataframe > tbody > tr {\n",
       "  text-align: right;\n",
       "  white-space: pre-wrap;\n",
       "}\n",
       "</style>\n",
       "<small>shape: (5, 8)</small><table border=\"1\" class=\"dataframe\"><thead><tr><th>title</th><th>score</th><th>id</th><th>url</th><th>comms_num</th><th>created</th><th>body</th><th>timestamp</th></tr><tr><td>str</td><td>i64</td><td>str</td><td>str</td><td>i64</td><td>f64</td><td>str</td><td>datetime[μs]</td></tr></thead><tbody><tr><td>&quot;Health Canada approves AstraZe…</td><td>7</td><td>&quot;lt74vw&quot;</td><td>&quot;https://www.canadaforums.ca/20…</td><td>0</td><td>1.6144e9</td><td>null</td><td>2021-02-27 06:33:45</td></tr><tr><td>&quot;COVID-19 in Canada: &#x27;Vaccinati…</td><td>2</td><td>&quot;lsh0ij&quot;</td><td>&quot;https://www.canadaforums.ca/20…</td><td>1</td><td>1.6143e9</td><td>null</td><td>2021-02-26 07:11:07</td></tr><tr><td>&quot;Coronavirus variants could fue…</td><td>6</td><td>&quot;lohlle&quot;</td><td>&quot;https://www.canadaforums.ca/20…</td><td>0</td><td>1.6139e9</td><td>null</td><td>2021-02-21 07:50:08</td></tr><tr><td>&quot;Canadian government to extend …</td><td>1</td><td>&quot;lnptv8&quot;</td><td>&quot;https://www.canadaforums.ca/20…</td><td>0</td><td>1.6138e9</td><td>null</td><td>2021-02-20 06:35:13</td></tr><tr><td>&quot;Canada: Pfizer is &#x27;extremely c…</td><td>6</td><td>&quot;lkslm6&quot;</td><td>&quot;https://www.canadaforums.ca/20…</td><td>0</td><td>1.6135e9</td><td>null</td><td>2021-02-16 11:36:28</td></tr></tbody></table></div>"
      ],
      "text/plain": [
       "shape: (5, 8)\n",
       "┌─────────────────┬───────┬────────┬────────────────┬───────────┬──────────┬──────┬────────────────┐\n",
       "│ title           ┆ score ┆ id     ┆ url            ┆ comms_num ┆ created  ┆ body ┆ timestamp      │\n",
       "│ ---             ┆ ---   ┆ ---    ┆ ---            ┆ ---       ┆ ---      ┆ ---  ┆ ---            │\n",
       "│ str             ┆ i64   ┆ str    ┆ str            ┆ i64       ┆ f64      ┆ str  ┆ datetime[μs]   │\n",
       "╞═════════════════╪═══════╪════════╪════════════════╪═══════════╪══════════╪══════╪════════════════╡\n",
       "│ Health Canada   ┆ 7     ┆ lt74vw ┆ https://www.ca ┆ 0         ┆ 1.6144e9 ┆ null ┆ 2021-02-27     │\n",
       "│ approves        ┆       ┆        ┆ nadaforums.ca/ ┆           ┆          ┆      ┆ 06:33:45       │\n",
       "│ AstraZe…        ┆       ┆        ┆ 20…            ┆           ┆          ┆      ┆                │\n",
       "│ COVID-19 in     ┆ 2     ┆ lsh0ij ┆ https://www.ca ┆ 1         ┆ 1.6143e9 ┆ null ┆ 2021-02-26     │\n",
       "│ Canada:         ┆       ┆        ┆ nadaforums.ca/ ┆           ┆          ┆      ┆ 07:11:07       │\n",
       "│ 'Vaccinati…     ┆       ┆        ┆ 20…            ┆           ┆          ┆      ┆                │\n",
       "│ Coronavirus     ┆ 6     ┆ lohlle ┆ https://www.ca ┆ 0         ┆ 1.6139e9 ┆ null ┆ 2021-02-21     │\n",
       "│ variants could  ┆       ┆        ┆ nadaforums.ca/ ┆           ┆          ┆      ┆ 07:50:08       │\n",
       "│ fue…            ┆       ┆        ┆ 20…            ┆           ┆          ┆      ┆                │\n",
       "│ Canadian        ┆ 1     ┆ lnptv8 ┆ https://www.ca ┆ 0         ┆ 1.6138e9 ┆ null ┆ 2021-02-20     │\n",
       "│ government to   ┆       ┆        ┆ nadaforums.ca/ ┆           ┆          ┆      ┆ 06:35:13       │\n",
       "│ extend …        ┆       ┆        ┆ 20…            ┆           ┆          ┆      ┆                │\n",
       "│ Canada: Pfizer  ┆ 6     ┆ lkslm6 ┆ https://www.ca ┆ 0         ┆ 1.6135e9 ┆ null ┆ 2021-02-16     │\n",
       "│ is 'extremely   ┆       ┆        ┆ nadaforums.ca/ ┆           ┆          ┆      ┆ 11:36:28       │\n",
       "│ c…              ┆       ┆        ┆ 20…            ┆           ┆          ┆      ┆                │\n",
       "└─────────────────┴───────┴────────┴────────────────┴───────────┴──────────┴──────┴────────────────┘"
      ]
     },
     "metadata": {},
     "output_type": "display_data"
    }
   ],
   "source": [
    "CSV_INPUT = 'reddit_vm'\n",
    "\n",
    "def load_csv(CSV_INPUT):\n",
    "    \"\"\"\n",
    "    Given user selection in the CLI of a csv to analyze, the csv is read in as a Polars dataframe assigned to the df variable. \n",
    "\n",
    "    # TODO: List out all possible datetime formats that Polars can automatically detect for transparency to non-technical users. We can potentially code out other options that Polars does not cover. \n",
    "\n",
    "    \"\"\"\n",
    "    df = pl.read_csv(f'../../sample_data/{CSV_INPUT}.csv', try_parse_dates = True)\n",
    "    dtype_dict = dict(zip(df.columns, df.dtypes))\n",
    "\n",
    "    datetime_cols = [col for col, dtype in dtype_dict.items() if isinstance(dtype, pl.Datetime)]\n",
    "    if len(datetime_cols) > 1:\n",
    "        print(f'More than one datetime column found. Please choose one of the following to analyze: {datetime_cols}')\n",
    "    elif len(datetime_cols) == 0:\n",
    "        raise TypeError('No datetime columns were found.')\n",
    "    else:\n",
    "        print(f'Datetime column found: {datetime_cols[0]}')\n",
    "    display(df.head(5))\n",
    "    return df\n",
    "    \n",
    "df = load_csv(CSV_INPUT)"
   ]
  },
  {
   "cell_type": "code",
   "execution_count": 19,
   "metadata": {},
   "outputs": [],
   "source": [
    "# The CLI gives the user a choice for how many minutes they want to break down the temporal data.\n",
    "MINUTE_SPLIT_INPUT = 30"
   ]
  },
  {
   "cell_type": "code",
   "execution_count": null,
   "metadata": {},
   "outputs": [],
   "source": [
    "\n",
    "# TODO LIST:\n",
    "### DATE BREAKDOWN\n",
    "### DAY OF WEEK BREAKDOWN"
   ]
  }
 ],
 "metadata": {
  "kernelspec": {
   "display_name": ".venv",
   "language": "python",
   "name": "python3"
  },
  "language_info": {
   "codemirror_mode": {
    "name": "ipython",
    "version": 3
   },
   "file_extension": ".py",
   "mimetype": "text/x-python",
   "name": "python",
   "nbconvert_exporter": "python",
   "pygments_lexer": "ipython3",
   "version": "3.12.4"
  }
 },
 "nbformat": 4,
 "nbformat_minor": 2
}
