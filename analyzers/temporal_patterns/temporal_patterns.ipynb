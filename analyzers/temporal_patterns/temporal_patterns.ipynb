{
 "cells": [
  {
   "cell_type": "code",
   "execution_count": 1,
   "metadata": {},
   "outputs": [],
   "source": [
    "import polars as pl\n",
    "import pandas as pd\n",
    "import plotly.express as px"
   ]
  },
  {
   "cell_type": "code",
   "execution_count": 2,
   "metadata": {},
   "outputs": [],
   "source": [
    "# User CLI Inputs: CSV_INPUT, MINUTE_SPLIT_INPUT"
   ]
  },
  {
   "cell_type": "code",
   "execution_count": 3,
   "metadata": {},
   "outputs": [
    {
     "name": "stdout",
     "output_type": "stream",
     "text": [
      "Datetime column found: timestamp\n"
     ]
    },
    {
     "data": {
      "text/html": [
       "<div><style>\n",
       ".dataframe > thead > tr,\n",
       ".dataframe > tbody > tr {\n",
       "  text-align: right;\n",
       "  white-space: pre-wrap;\n",
       "}\n",
       "</style>\n",
       "<small>shape: (5, 8)</small><table border=\"1\" class=\"dataframe\"><thead><tr><th>title</th><th>score</th><th>id</th><th>url</th><th>comms_num</th><th>created</th><th>body</th><th>timestamp</th></tr><tr><td>str</td><td>i64</td><td>str</td><td>str</td><td>i64</td><td>f64</td><td>str</td><td>datetime[μs]</td></tr></thead><tbody><tr><td>&quot;Health Canada approves AstraZe…</td><td>7</td><td>&quot;lt74vw&quot;</td><td>&quot;https://www.canadaforums.ca/20…</td><td>0</td><td>1.6144e9</td><td>null</td><td>2021-02-27 06:33:45</td></tr><tr><td>&quot;COVID-19 in Canada: &#x27;Vaccinati…</td><td>2</td><td>&quot;lsh0ij&quot;</td><td>&quot;https://www.canadaforums.ca/20…</td><td>1</td><td>1.6143e9</td><td>null</td><td>2021-02-26 07:11:07</td></tr><tr><td>&quot;Coronavirus variants could fue…</td><td>6</td><td>&quot;lohlle&quot;</td><td>&quot;https://www.canadaforums.ca/20…</td><td>0</td><td>1.6139e9</td><td>null</td><td>2021-02-21 07:50:08</td></tr><tr><td>&quot;Canadian government to extend …</td><td>1</td><td>&quot;lnptv8&quot;</td><td>&quot;https://www.canadaforums.ca/20…</td><td>0</td><td>1.6138e9</td><td>null</td><td>2021-02-20 06:35:13</td></tr><tr><td>&quot;Canada: Pfizer is &#x27;extremely c…</td><td>6</td><td>&quot;lkslm6&quot;</td><td>&quot;https://www.canadaforums.ca/20…</td><td>0</td><td>1.6135e9</td><td>null</td><td>2021-02-16 11:36:28</td></tr></tbody></table></div>"
      ],
      "text/plain": [
       "shape: (5, 8)\n",
       "┌─────────────────┬───────┬────────┬────────────────┬───────────┬──────────┬──────┬────────────────┐\n",
       "│ title           ┆ score ┆ id     ┆ url            ┆ comms_num ┆ created  ┆ body ┆ timestamp      │\n",
       "│ ---             ┆ ---   ┆ ---    ┆ ---            ┆ ---       ┆ ---      ┆ ---  ┆ ---            │\n",
       "│ str             ┆ i64   ┆ str    ┆ str            ┆ i64       ┆ f64      ┆ str  ┆ datetime[μs]   │\n",
       "╞═════════════════╪═══════╪════════╪════════════════╪═══════════╪══════════╪══════╪════════════════╡\n",
       "│ Health Canada   ┆ 7     ┆ lt74vw ┆ https://www.ca ┆ 0         ┆ 1.6144e9 ┆ null ┆ 2021-02-27     │\n",
       "│ approves        ┆       ┆        ┆ nadaforums.ca/ ┆           ┆          ┆      ┆ 06:33:45       │\n",
       "│ AstraZe…        ┆       ┆        ┆ 20…            ┆           ┆          ┆      ┆                │\n",
       "│ COVID-19 in     ┆ 2     ┆ lsh0ij ┆ https://www.ca ┆ 1         ┆ 1.6143e9 ┆ null ┆ 2021-02-26     │\n",
       "│ Canada:         ┆       ┆        ┆ nadaforums.ca/ ┆           ┆          ┆      ┆ 07:11:07       │\n",
       "│ 'Vaccinati…     ┆       ┆        ┆ 20…            ┆           ┆          ┆      ┆                │\n",
       "│ Coronavirus     ┆ 6     ┆ lohlle ┆ https://www.ca ┆ 0         ┆ 1.6139e9 ┆ null ┆ 2021-02-21     │\n",
       "│ variants could  ┆       ┆        ┆ nadaforums.ca/ ┆           ┆          ┆      ┆ 07:50:08       │\n",
       "│ fue…            ┆       ┆        ┆ 20…            ┆           ┆          ┆      ┆                │\n",
       "│ Canadian        ┆ 1     ┆ lnptv8 ┆ https://www.ca ┆ 0         ┆ 1.6138e9 ┆ null ┆ 2021-02-20     │\n",
       "│ government to   ┆       ┆        ┆ nadaforums.ca/ ┆           ┆          ┆      ┆ 06:35:13       │\n",
       "│ extend …        ┆       ┆        ┆ 20…            ┆           ┆          ┆      ┆                │\n",
       "│ Canada: Pfizer  ┆ 6     ┆ lkslm6 ┆ https://www.ca ┆ 0         ┆ 1.6135e9 ┆ null ┆ 2021-02-16     │\n",
       "│ is 'extremely   ┆       ┆        ┆ nadaforums.ca/ ┆           ┆          ┆      ┆ 11:36:28       │\n",
       "│ c…              ┆       ┆        ┆ 20…            ┆           ┆          ┆      ┆                │\n",
       "└─────────────────┴───────┴────────┴────────────────┴───────────┴──────────┴──────┴────────────────┘"
      ]
     },
     "metadata": {},
     "output_type": "display_data"
    }
   ],
   "source": [
    "CSV_INPUT = 'reddit_vm'\n",
    "\n",
    "def load_csv(CSV_INPUT):\n",
    "    \"\"\"\n",
    "    Given user selection in the CLI of a csv to analyze, the csv is read in as a Polars dataframe assigned to the df variable. \n",
    "\n",
    "    # TODO: List out all possible datetime formats that Polars can automatically detect for transparency to non-technical users. We can potentially code out other options that Polars does not cover. \n",
    "\n",
    "    \"\"\"\n",
    "    df = pl.read_csv(f'../../sample_data/{CSV_INPUT}.csv', try_parse_dates = True)\n",
    "    dtype_dict = dict(zip(df.columns, df.dtypes))\n",
    "\n",
    "    datetime_cols = [col for col, dtype in dtype_dict.items() if isinstance(dtype, pl.Datetime)]\n",
    "    if len(datetime_cols) > 1:\n",
    "        print(f'More than one datetime column found. Please choose one of the following to analyze: {datetime_cols}')\n",
    "    elif len(datetime_cols) == 0:\n",
    "        raise TypeError('No datetime columns were found.')\n",
    "    else:\n",
    "        print(f'Datetime column found: {datetime_cols[0]}')\n",
    "    display(df.head(5))\n",
    "    return df\n",
    "    \n",
    "df = load_csv(CSV_INPUT)"
   ]
  },
  {
   "cell_type": "code",
   "execution_count": 4,
   "metadata": {},
   "outputs": [],
   "source": [
    "def process_datetime_feature_engineering(df):\n",
    "    df = df.with_columns(\n",
    "        pl.col(\"timestamp\").dt.cast_time_unit(\"ms\").dt.replace_time_zone(None)\n",
    "    )\n",
    "\n",
    "    df = df.with_columns(\n",
    "        (pl.col(\"timestamp\").dt.hour()).cast(int).alias(\"hour\"), # extract hour from timestamp and ensure that the integer type has a large enough bit-size (defaults to i8 without casting)\n",
    "        (pl.col(\"timestamp\").dt.minute().cast(int).alias(\"minute\")),  # extract minute from timestamp and ensure that the integer type has a large enough bit-size (defaults to i8 without casting)\n",
    "    )\n",
    "\n",
    "    df = df.with_columns(\n",
    "        (pl.col(\"hour\")*60 + pl.col(\"minute\")).alias(\"minute_of_day\") # get the minute marker in the day\n",
    "    )\n",
    "\n",
    "    return df"
   ]
  },
  {
   "cell_type": "code",
   "execution_count": 5,
   "metadata": {},
   "outputs": [
    {
     "data": {
      "text/html": [
       "<div><style>\n",
       ".dataframe > thead > tr,\n",
       ".dataframe > tbody > tr {\n",
       "  text-align: right;\n",
       "  white-space: pre-wrap;\n",
       "}\n",
       "</style>\n",
       "<small>shape: (5, 11)</small><table border=\"1\" class=\"dataframe\"><thead><tr><th>title</th><th>score</th><th>id</th><th>url</th><th>comms_num</th><th>created</th><th>body</th><th>timestamp</th><th>hour</th><th>minute</th><th>minute_of_day</th></tr><tr><td>str</td><td>i64</td><td>str</td><td>str</td><td>i64</td><td>f64</td><td>str</td><td>datetime[ms]</td><td>i64</td><td>i64</td><td>i64</td></tr></thead><tbody><tr><td>&quot;Health Canada approves AstraZe…</td><td>7</td><td>&quot;lt74vw&quot;</td><td>&quot;https://www.canadaforums.ca/20…</td><td>0</td><td>1.6144e9</td><td>null</td><td>2021-02-27 06:33:45</td><td>6</td><td>33</td><td>393</td></tr><tr><td>&quot;COVID-19 in Canada: &#x27;Vaccinati…</td><td>2</td><td>&quot;lsh0ij&quot;</td><td>&quot;https://www.canadaforums.ca/20…</td><td>1</td><td>1.6143e9</td><td>null</td><td>2021-02-26 07:11:07</td><td>7</td><td>11</td><td>431</td></tr><tr><td>&quot;Coronavirus variants could fue…</td><td>6</td><td>&quot;lohlle&quot;</td><td>&quot;https://www.canadaforums.ca/20…</td><td>0</td><td>1.6139e9</td><td>null</td><td>2021-02-21 07:50:08</td><td>7</td><td>50</td><td>470</td></tr><tr><td>&quot;Canadian government to extend …</td><td>1</td><td>&quot;lnptv8&quot;</td><td>&quot;https://www.canadaforums.ca/20…</td><td>0</td><td>1.6138e9</td><td>null</td><td>2021-02-20 06:35:13</td><td>6</td><td>35</td><td>395</td></tr><tr><td>&quot;Canada: Pfizer is &#x27;extremely c…</td><td>6</td><td>&quot;lkslm6&quot;</td><td>&quot;https://www.canadaforums.ca/20…</td><td>0</td><td>1.6135e9</td><td>null</td><td>2021-02-16 11:36:28</td><td>11</td><td>36</td><td>696</td></tr></tbody></table></div>"
      ],
      "text/plain": [
       "shape: (5, 11)\n",
       "┌───────────────┬───────┬────────┬───────────────┬───┬──────────────┬──────┬────────┬──────────────┐\n",
       "│ title         ┆ score ┆ id     ┆ url           ┆ … ┆ timestamp    ┆ hour ┆ minute ┆ minute_of_da │\n",
       "│ ---           ┆ ---   ┆ ---    ┆ ---           ┆   ┆ ---          ┆ ---  ┆ ---    ┆ y            │\n",
       "│ str           ┆ i64   ┆ str    ┆ str           ┆   ┆ datetime[ms] ┆ i64  ┆ i64    ┆ ---          │\n",
       "│               ┆       ┆        ┆               ┆   ┆              ┆      ┆        ┆ i64          │\n",
       "╞═══════════════╪═══════╪════════╪═══════════════╪═══╪══════════════╪══════╪════════╪══════════════╡\n",
       "│ Health Canada ┆ 7     ┆ lt74vw ┆ https://www.c ┆ … ┆ 2021-02-27   ┆ 6    ┆ 33     ┆ 393          │\n",
       "│ approves      ┆       ┆        ┆ anadaforums.c ┆   ┆ 06:33:45     ┆      ┆        ┆              │\n",
       "│ AstraZe…      ┆       ┆        ┆ a/20…         ┆   ┆              ┆      ┆        ┆              │\n",
       "│ COVID-19 in   ┆ 2     ┆ lsh0ij ┆ https://www.c ┆ … ┆ 2021-02-26   ┆ 7    ┆ 11     ┆ 431          │\n",
       "│ Canada:       ┆       ┆        ┆ anadaforums.c ┆   ┆ 07:11:07     ┆      ┆        ┆              │\n",
       "│ 'Vaccinati…   ┆       ┆        ┆ a/20…         ┆   ┆              ┆      ┆        ┆              │\n",
       "│ Coronavirus   ┆ 6     ┆ lohlle ┆ https://www.c ┆ … ┆ 2021-02-21   ┆ 7    ┆ 50     ┆ 470          │\n",
       "│ variants      ┆       ┆        ┆ anadaforums.c ┆   ┆ 07:50:08     ┆      ┆        ┆              │\n",
       "│ could fue…    ┆       ┆        ┆ a/20…         ┆   ┆              ┆      ┆        ┆              │\n",
       "│ Canadian      ┆ 1     ┆ lnptv8 ┆ https://www.c ┆ … ┆ 2021-02-20   ┆ 6    ┆ 35     ┆ 395          │\n",
       "│ government to ┆       ┆        ┆ anadaforums.c ┆   ┆ 06:35:13     ┆      ┆        ┆              │\n",
       "│ extend …      ┆       ┆        ┆ a/20…         ┆   ┆              ┆      ┆        ┆              │\n",
       "│ Canada:       ┆ 6     ┆ lkslm6 ┆ https://www.c ┆ … ┆ 2021-02-16   ┆ 11   ┆ 36     ┆ 696          │\n",
       "│ Pfizer is     ┆       ┆        ┆ anadaforums.c ┆   ┆ 11:36:28     ┆      ┆        ┆              │\n",
       "│ 'extremely c… ┆       ┆        ┆ a/20…         ┆   ┆              ┆      ┆        ┆              │\n",
       "└───────────────┴───────┴────────┴───────────────┴───┴──────────────┴──────┴────────┴──────────────┘"
      ]
     },
     "execution_count": 5,
     "metadata": {},
     "output_type": "execute_result"
    }
   ],
   "source": [
    "df = process_datetime_feature_engineering(df)\n",
    "df.head()"
   ]
  },
  {
   "cell_type": "code",
   "execution_count": 13,
   "metadata": {},
   "outputs": [
    {
     "data": {
      "application/vnd.plotly.v1+json": {
       "config": {
        "plotlyServerURL": "https://plot.ly"
       },
       "data": [
        {
         "alignmentgroup": "True",
         "hovertemplate": "60-Minute Period Label=%{x}<br>Count=%{y}<extra></extra>",
         "legendgroup": "",
         "marker": {
          "color": "#636efa",
          "pattern": {
           "shape": ""
          }
         },
         "name": "",
         "offsetgroup": "",
         "orientation": "v",
         "showlegend": false,
         "textposition": "auto",
         "type": "bar",
         "x": [
          15,
          0,
          6,
          21,
          3,
          9,
          12,
          18,
          13,
          4,
          1,
          7,
          10,
          16,
          22,
          19,
          23,
          14,
          2,
          11,
          17,
          20,
          8,
          5
         ],
         "xaxis": "x",
         "y": [
          70,
          71,
          87,
          75,
          75,
          56,
          33,
          88,
          34,
          52,
          73,
          59,
          40,
          73,
          79,
          72,
          83,
          53,
          88,
          34,
          61,
          68,
          63,
          79
         ],
         "yaxis": "y"
        }
       ],
       "layout": {
        "barmode": "relative",
        "legend": {
         "tracegroupgap": 0
        },
        "template": {
         "data": {
          "bar": [
           {
            "error_x": {
             "color": "#2a3f5f"
            },
            "error_y": {
             "color": "#2a3f5f"
            },
            "marker": {
             "line": {
              "color": "#E5ECF6",
              "width": 0.5
             },
             "pattern": {
              "fillmode": "overlay",
              "size": 10,
              "solidity": 0.2
             }
            },
            "type": "bar"
           }
          ],
          "barpolar": [
           {
            "marker": {
             "line": {
              "color": "#E5ECF6",
              "width": 0.5
             },
             "pattern": {
              "fillmode": "overlay",
              "size": 10,
              "solidity": 0.2
             }
            },
            "type": "barpolar"
           }
          ],
          "carpet": [
           {
            "aaxis": {
             "endlinecolor": "#2a3f5f",
             "gridcolor": "white",
             "linecolor": "white",
             "minorgridcolor": "white",
             "startlinecolor": "#2a3f5f"
            },
            "baxis": {
             "endlinecolor": "#2a3f5f",
             "gridcolor": "white",
             "linecolor": "white",
             "minorgridcolor": "white",
             "startlinecolor": "#2a3f5f"
            },
            "type": "carpet"
           }
          ],
          "choropleth": [
           {
            "colorbar": {
             "outlinewidth": 0,
             "ticks": ""
            },
            "type": "choropleth"
           }
          ],
          "contour": [
           {
            "colorbar": {
             "outlinewidth": 0,
             "ticks": ""
            },
            "colorscale": [
             [
              0,
              "#0d0887"
             ],
             [
              0.1111111111111111,
              "#46039f"
             ],
             [
              0.2222222222222222,
              "#7201a8"
             ],
             [
              0.3333333333333333,
              "#9c179e"
             ],
             [
              0.4444444444444444,
              "#bd3786"
             ],
             [
              0.5555555555555556,
              "#d8576b"
             ],
             [
              0.6666666666666666,
              "#ed7953"
             ],
             [
              0.7777777777777778,
              "#fb9f3a"
             ],
             [
              0.8888888888888888,
              "#fdca26"
             ],
             [
              1,
              "#f0f921"
             ]
            ],
            "type": "contour"
           }
          ],
          "contourcarpet": [
           {
            "colorbar": {
             "outlinewidth": 0,
             "ticks": ""
            },
            "type": "contourcarpet"
           }
          ],
          "heatmap": [
           {
            "colorbar": {
             "outlinewidth": 0,
             "ticks": ""
            },
            "colorscale": [
             [
              0,
              "#0d0887"
             ],
             [
              0.1111111111111111,
              "#46039f"
             ],
             [
              0.2222222222222222,
              "#7201a8"
             ],
             [
              0.3333333333333333,
              "#9c179e"
             ],
             [
              0.4444444444444444,
              "#bd3786"
             ],
             [
              0.5555555555555556,
              "#d8576b"
             ],
             [
              0.6666666666666666,
              "#ed7953"
             ],
             [
              0.7777777777777778,
              "#fb9f3a"
             ],
             [
              0.8888888888888888,
              "#fdca26"
             ],
             [
              1,
              "#f0f921"
             ]
            ],
            "type": "heatmap"
           }
          ],
          "heatmapgl": [
           {
            "colorbar": {
             "outlinewidth": 0,
             "ticks": ""
            },
            "colorscale": [
             [
              0,
              "#0d0887"
             ],
             [
              0.1111111111111111,
              "#46039f"
             ],
             [
              0.2222222222222222,
              "#7201a8"
             ],
             [
              0.3333333333333333,
              "#9c179e"
             ],
             [
              0.4444444444444444,
              "#bd3786"
             ],
             [
              0.5555555555555556,
              "#d8576b"
             ],
             [
              0.6666666666666666,
              "#ed7953"
             ],
             [
              0.7777777777777778,
              "#fb9f3a"
             ],
             [
              0.8888888888888888,
              "#fdca26"
             ],
             [
              1,
              "#f0f921"
             ]
            ],
            "type": "heatmapgl"
           }
          ],
          "histogram": [
           {
            "marker": {
             "pattern": {
              "fillmode": "overlay",
              "size": 10,
              "solidity": 0.2
             }
            },
            "type": "histogram"
           }
          ],
          "histogram2d": [
           {
            "colorbar": {
             "outlinewidth": 0,
             "ticks": ""
            },
            "colorscale": [
             [
              0,
              "#0d0887"
             ],
             [
              0.1111111111111111,
              "#46039f"
             ],
             [
              0.2222222222222222,
              "#7201a8"
             ],
             [
              0.3333333333333333,
              "#9c179e"
             ],
             [
              0.4444444444444444,
              "#bd3786"
             ],
             [
              0.5555555555555556,
              "#d8576b"
             ],
             [
              0.6666666666666666,
              "#ed7953"
             ],
             [
              0.7777777777777778,
              "#fb9f3a"
             ],
             [
              0.8888888888888888,
              "#fdca26"
             ],
             [
              1,
              "#f0f921"
             ]
            ],
            "type": "histogram2d"
           }
          ],
          "histogram2dcontour": [
           {
            "colorbar": {
             "outlinewidth": 0,
             "ticks": ""
            },
            "colorscale": [
             [
              0,
              "#0d0887"
             ],
             [
              0.1111111111111111,
              "#46039f"
             ],
             [
              0.2222222222222222,
              "#7201a8"
             ],
             [
              0.3333333333333333,
              "#9c179e"
             ],
             [
              0.4444444444444444,
              "#bd3786"
             ],
             [
              0.5555555555555556,
              "#d8576b"
             ],
             [
              0.6666666666666666,
              "#ed7953"
             ],
             [
              0.7777777777777778,
              "#fb9f3a"
             ],
             [
              0.8888888888888888,
              "#fdca26"
             ],
             [
              1,
              "#f0f921"
             ]
            ],
            "type": "histogram2dcontour"
           }
          ],
          "mesh3d": [
           {
            "colorbar": {
             "outlinewidth": 0,
             "ticks": ""
            },
            "type": "mesh3d"
           }
          ],
          "parcoords": [
           {
            "line": {
             "colorbar": {
              "outlinewidth": 0,
              "ticks": ""
             }
            },
            "type": "parcoords"
           }
          ],
          "pie": [
           {
            "automargin": true,
            "type": "pie"
           }
          ],
          "scatter": [
           {
            "fillpattern": {
             "fillmode": "overlay",
             "size": 10,
             "solidity": 0.2
            },
            "type": "scatter"
           }
          ],
          "scatter3d": [
           {
            "line": {
             "colorbar": {
              "outlinewidth": 0,
              "ticks": ""
             }
            },
            "marker": {
             "colorbar": {
              "outlinewidth": 0,
              "ticks": ""
             }
            },
            "type": "scatter3d"
           }
          ],
          "scattercarpet": [
           {
            "marker": {
             "colorbar": {
              "outlinewidth": 0,
              "ticks": ""
             }
            },
            "type": "scattercarpet"
           }
          ],
          "scattergeo": [
           {
            "marker": {
             "colorbar": {
              "outlinewidth": 0,
              "ticks": ""
             }
            },
            "type": "scattergeo"
           }
          ],
          "scattergl": [
           {
            "marker": {
             "colorbar": {
              "outlinewidth": 0,
              "ticks": ""
             }
            },
            "type": "scattergl"
           }
          ],
          "scattermapbox": [
           {
            "marker": {
             "colorbar": {
              "outlinewidth": 0,
              "ticks": ""
             }
            },
            "type": "scattermapbox"
           }
          ],
          "scatterpolar": [
           {
            "marker": {
             "colorbar": {
              "outlinewidth": 0,
              "ticks": ""
             }
            },
            "type": "scatterpolar"
           }
          ],
          "scatterpolargl": [
           {
            "marker": {
             "colorbar": {
              "outlinewidth": 0,
              "ticks": ""
             }
            },
            "type": "scatterpolargl"
           }
          ],
          "scatterternary": [
           {
            "marker": {
             "colorbar": {
              "outlinewidth": 0,
              "ticks": ""
             }
            },
            "type": "scatterternary"
           }
          ],
          "surface": [
           {
            "colorbar": {
             "outlinewidth": 0,
             "ticks": ""
            },
            "colorscale": [
             [
              0,
              "#0d0887"
             ],
             [
              0.1111111111111111,
              "#46039f"
             ],
             [
              0.2222222222222222,
              "#7201a8"
             ],
             [
              0.3333333333333333,
              "#9c179e"
             ],
             [
              0.4444444444444444,
              "#bd3786"
             ],
             [
              0.5555555555555556,
              "#d8576b"
             ],
             [
              0.6666666666666666,
              "#ed7953"
             ],
             [
              0.7777777777777778,
              "#fb9f3a"
             ],
             [
              0.8888888888888888,
              "#fdca26"
             ],
             [
              1,
              "#f0f921"
             ]
            ],
            "type": "surface"
           }
          ],
          "table": [
           {
            "cells": {
             "fill": {
              "color": "#EBF0F8"
             },
             "line": {
              "color": "white"
             }
            },
            "header": {
             "fill": {
              "color": "#C8D4E3"
             },
             "line": {
              "color": "white"
             }
            },
            "type": "table"
           }
          ]
         },
         "layout": {
          "annotationdefaults": {
           "arrowcolor": "#2a3f5f",
           "arrowhead": 0,
           "arrowwidth": 1
          },
          "autotypenumbers": "strict",
          "coloraxis": {
           "colorbar": {
            "outlinewidth": 0,
            "ticks": ""
           }
          },
          "colorscale": {
           "diverging": [
            [
             0,
             "#8e0152"
            ],
            [
             0.1,
             "#c51b7d"
            ],
            [
             0.2,
             "#de77ae"
            ],
            [
             0.3,
             "#f1b6da"
            ],
            [
             0.4,
             "#fde0ef"
            ],
            [
             0.5,
             "#f7f7f7"
            ],
            [
             0.6,
             "#e6f5d0"
            ],
            [
             0.7,
             "#b8e186"
            ],
            [
             0.8,
             "#7fbc41"
            ],
            [
             0.9,
             "#4d9221"
            ],
            [
             1,
             "#276419"
            ]
           ],
           "sequential": [
            [
             0,
             "#0d0887"
            ],
            [
             0.1111111111111111,
             "#46039f"
            ],
            [
             0.2222222222222222,
             "#7201a8"
            ],
            [
             0.3333333333333333,
             "#9c179e"
            ],
            [
             0.4444444444444444,
             "#bd3786"
            ],
            [
             0.5555555555555556,
             "#d8576b"
            ],
            [
             0.6666666666666666,
             "#ed7953"
            ],
            [
             0.7777777777777778,
             "#fb9f3a"
            ],
            [
             0.8888888888888888,
             "#fdca26"
            ],
            [
             1,
             "#f0f921"
            ]
           ],
           "sequentialminus": [
            [
             0,
             "#0d0887"
            ],
            [
             0.1111111111111111,
             "#46039f"
            ],
            [
             0.2222222222222222,
             "#7201a8"
            ],
            [
             0.3333333333333333,
             "#9c179e"
            ],
            [
             0.4444444444444444,
             "#bd3786"
            ],
            [
             0.5555555555555556,
             "#d8576b"
            ],
            [
             0.6666666666666666,
             "#ed7953"
            ],
            [
             0.7777777777777778,
             "#fb9f3a"
            ],
            [
             0.8888888888888888,
             "#fdca26"
            ],
            [
             1,
             "#f0f921"
            ]
           ]
          },
          "colorway": [
           "#636efa",
           "#EF553B",
           "#00cc96",
           "#ab63fa",
           "#FFA15A",
           "#19d3f3",
           "#FF6692",
           "#B6E880",
           "#FF97FF",
           "#FECB52"
          ],
          "font": {
           "color": "#2a3f5f"
          },
          "geo": {
           "bgcolor": "white",
           "lakecolor": "white",
           "landcolor": "#E5ECF6",
           "showlakes": true,
           "showland": true,
           "subunitcolor": "white"
          },
          "hoverlabel": {
           "align": "left"
          },
          "hovermode": "closest",
          "mapbox": {
           "style": "light"
          },
          "paper_bgcolor": "white",
          "plot_bgcolor": "#E5ECF6",
          "polar": {
           "angularaxis": {
            "gridcolor": "white",
            "linecolor": "white",
            "ticks": ""
           },
           "bgcolor": "#E5ECF6",
           "radialaxis": {
            "gridcolor": "white",
            "linecolor": "white",
            "ticks": ""
           }
          },
          "scene": {
           "xaxis": {
            "backgroundcolor": "#E5ECF6",
            "gridcolor": "white",
            "gridwidth": 2,
            "linecolor": "white",
            "showbackground": true,
            "ticks": "",
            "zerolinecolor": "white"
           },
           "yaxis": {
            "backgroundcolor": "#E5ECF6",
            "gridcolor": "white",
            "gridwidth": 2,
            "linecolor": "white",
            "showbackground": true,
            "ticks": "",
            "zerolinecolor": "white"
           },
           "zaxis": {
            "backgroundcolor": "#E5ECF6",
            "gridcolor": "white",
            "gridwidth": 2,
            "linecolor": "white",
            "showbackground": true,
            "ticks": "",
            "zerolinecolor": "white"
           }
          },
          "shapedefaults": {
           "line": {
            "color": "#2a3f5f"
           }
          },
          "ternary": {
           "aaxis": {
            "gridcolor": "white",
            "linecolor": "white",
            "ticks": ""
           },
           "baxis": {
            "gridcolor": "white",
            "linecolor": "white",
            "ticks": ""
           },
           "bgcolor": "#E5ECF6",
           "caxis": {
            "gridcolor": "white",
            "linecolor": "white",
            "ticks": ""
           }
          },
          "title": {
           "x": 0.05
          },
          "xaxis": {
           "automargin": true,
           "gridcolor": "white",
           "linecolor": "white",
           "ticks": "",
           "title": {
            "standoff": 15
           },
           "zerolinecolor": "white",
           "zerolinewidth": 2
          },
          "yaxis": {
           "automargin": true,
           "gridcolor": "white",
           "linecolor": "white",
           "ticks": "",
           "title": {
            "standoff": 15
           },
           "zerolinecolor": "white",
           "zerolinewidth": 2
          }
         }
        },
        "title": {
         "text": "Record Frequency Split by 60 Minutes"
        },
        "xaxis": {
         "anchor": "y",
         "domain": [
          0,
          1
         ],
         "title": {
          "text": "60-Minute Period Label"
         }
        },
        "yaxis": {
         "anchor": "x",
         "domain": [
          0,
          1
         ],
         "title": {
          "text": "Count"
         }
        }
       }
      }
     },
     "metadata": {},
     "output_type": "display_data"
    },
    {
     "data": {
      "text/html": [
       "<div><style>\n",
       ".dataframe > thead > tr,\n",
       ".dataframe > tbody > tr {\n",
       "  text-align: right;\n",
       "  white-space: pre-wrap;\n",
       "}\n",
       "</style>\n",
       "<small>shape: (5, 2)</small><table border=\"1\" class=\"dataframe\"><thead><tr><th>minute_split_group</th><th>count</th></tr><tr><td>i64</td><td>u32</td></tr></thead><tbody><tr><td>0</td><td>71</td></tr><tr><td>1</td><td>73</td></tr><tr><td>2</td><td>88</td></tr><tr><td>3</td><td>75</td></tr><tr><td>4</td><td>52</td></tr></tbody></table></div>"
      ],
      "text/plain": [
       "shape: (5, 2)\n",
       "┌────────────────────┬───────┐\n",
       "│ minute_split_group ┆ count │\n",
       "│ ---                ┆ ---   │\n",
       "│ i64                ┆ u32   │\n",
       "╞════════════════════╪═══════╡\n",
       "│ 0                  ┆ 71    │\n",
       "│ 1                  ┆ 73    │\n",
       "│ 2                  ┆ 88    │\n",
       "│ 3                  ┆ 75    │\n",
       "│ 4                  ┆ 52    │\n",
       "└────────────────────┴───────┘"
      ]
     },
     "execution_count": 13,
     "metadata": {},
     "output_type": "execute_result"
    }
   ],
   "source": [
    "# The CLI gives the user a choice for how many minutes they want to break down the temporal data.\n",
    "MINUTE_SPLIT_INPUT = 60\n",
    "# TODO: add capacity for unique users\n",
    "\n",
    "def run_temporal_test_1(input_df, MINUTE_SPLIT_INPUT=60):\n",
    "    df = input_df.with_columns(\n",
    "        (pl.col(\"minute_of_day\") // MINUTE_SPLIT_INPUT).alias(\"minute_split_group\")\n",
    "    )\n",
    "\n",
    "    result_df = df.group_by(\"minute_split_group\").agg([\n",
    "        pl.col(\"minute_of_day\").count().alias(\"count\")\n",
    "    ])\n",
    "\n",
    "    # Create the Plotly graph\n",
    "    fig = px.bar(result_df.to_pandas(), \n",
    "                x='minute_split_group', \n",
    "                y='count', \n",
    "                orientation='v',\n",
    "                title=f'Record Frequency Split by {MINUTE_SPLIT_INPUT} Minutes', \n",
    "                labels={'minute_split_group': f'{MINUTE_SPLIT_INPUT}-Minute Period Label', 'count': 'Count'},\n",
    "            )\n",
    "\n",
    "    # Show the plot\n",
    "    fig.show()\n",
    "\n",
    "    return result_df.sort(\"minute_split_group\")\n",
    "\n",
    "tt1_df = run_temporal_test_1(df, MINUTE_SPLIT_INPUT)\n",
    "tt1_df.head()"
   ]
  },
  {
   "cell_type": "code",
   "execution_count": 9,
   "metadata": {},
   "outputs": [],
   "source": [
    "\n",
    "# TODO LIST:\n",
    "### DATE BREAKDOWN\n",
    "### DAY OF WEEK BREAKDOWN"
   ]
  }
 ],
 "metadata": {
  "kernelspec": {
   "display_name": ".venv",
   "language": "python",
   "name": "python3"
  },
  "language_info": {
   "codemirror_mode": {
    "name": "ipython",
    "version": 3
   },
   "file_extension": ".py",
   "mimetype": "text/x-python",
   "name": "python",
   "nbconvert_exporter": "python",
   "pygments_lexer": "ipython3",
   "version": "3.12.4"
  }
 },
 "nbformat": 4,
 "nbformat_minor": 2
}
